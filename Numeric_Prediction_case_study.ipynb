{
 "cells": [
  {
   "cell_type": "markdown",
   "metadata": {},
   "source": [
    "# 波士顿房价预测\n",
    "## 1. 数据集介绍\n",
    "波士顿住房数据集(bostonhousing.csv)包含美国人口普查局收集的美国马萨诸塞州波士顿住房价格的有关信息，数据字段及具体含义如下：\n",
    "- CRIM: per capita crime rate by town. 城镇人均犯罪率\n",
    "- ZN: proportion of residential land zoned for lots over 25,000 sq.ft. 占地面积超过25,000平方英尺的住宅用地比例\n",
    "- INDUS: proportion of non-retail business acres per town. 每个城镇非零售业务的比例\n",
    "- CHAS: Charles River dummy variable (1 if tract bounds river; 0 otherwise). 是否沿河道，是为1，否为0\n",
    "- NOX: nitric oxides concentration (parts per 10 million). 一氧化氮浓度（每千万份）\n",
    "- RM: average number of rooms per dwelling. 每间住宅的平均房间数\n",
    "- AGE: proportion of owner-occupied units built prior to 1940. 1940年以前建造的自住单位比例\n",
    "- DIS: weighted distances to five Boston employment centres. 波士顿的五个就业中心加权距离\n",
    "- RAD: index of accessibility to radial highways. 径向高速公路的可达性指数\n",
    "- TAX: full-value property-tax rate per \\$10,000. 每10,000美元的全额物业税率\n",
    "- PTRATIO: pupil-teacher ratio by town. 城镇的学生与教师比例\n",
    "- B: 1000(Bk - 0.63)^2 where Bk is the proportion of blacks by town. 其中Bk是城镇黑人的比例\n",
    "- LSTAT: lower status of the population. 人口状况下降％\n",
    "- MEDV: Median value of owner-occupied homes in \\$1000's. 自有住房的中位数报价, 单位1000美元\n",
    "\n",
    "其中，MEDV为预测变量Y，其他变量为X。"
   ]
  },
  {
   "cell_type": "code",
   "execution_count": 111,
   "metadata": {
    "_cell_guid": "b1076dfc-b9ad-4769-8c92-a6c4dae69d19",
    "_uuid": "8f2839f25d086af736a60e9eeb907d3b93b6e0e5"
   },
   "outputs": [
    {
     "data": {
      "text/html": [
       "<div>\n",
       "<style scoped>\n",
       "    .dataframe tbody tr th:only-of-type {\n",
       "        vertical-align: middle;\n",
       "    }\n",
       "\n",
       "    .dataframe tbody tr th {\n",
       "        vertical-align: top;\n",
       "    }\n",
       "\n",
       "    .dataframe thead th {\n",
       "        text-align: right;\n",
       "    }\n",
       "</style>\n",
       "<table border=\"1\" class=\"dataframe\">\n",
       "  <thead>\n",
       "    <tr style=\"text-align: right;\">\n",
       "      <th></th>\n",
       "      <th>CRIM</th>\n",
       "      <th>ZN</th>\n",
       "      <th>INDUS</th>\n",
       "      <th>CHAS</th>\n",
       "      <th>NOX</th>\n",
       "      <th>RM</th>\n",
       "      <th>AGE</th>\n",
       "      <th>DIS</th>\n",
       "      <th>RAD</th>\n",
       "      <th>TAX</th>\n",
       "      <th>PTRATIO</th>\n",
       "      <th>B</th>\n",
       "      <th>LSTAT</th>\n",
       "      <th>MEDV</th>\n",
       "    </tr>\n",
       "  </thead>\n",
       "  <tbody>\n",
       "    <tr>\n",
       "      <td>0</td>\n",
       "      <td>0.00632</td>\n",
       "      <td>18.0</td>\n",
       "      <td>2.31</td>\n",
       "      <td>0</td>\n",
       "      <td>0.538</td>\n",
       "      <td>6.575</td>\n",
       "      <td>65.2</td>\n",
       "      <td>4.0900</td>\n",
       "      <td>1</td>\n",
       "      <td>296</td>\n",
       "      <td>15.3</td>\n",
       "      <td>396.90</td>\n",
       "      <td>4.98</td>\n",
       "      <td>24.0</td>\n",
       "    </tr>\n",
       "    <tr>\n",
       "      <td>1</td>\n",
       "      <td>0.02731</td>\n",
       "      <td>0.0</td>\n",
       "      <td>7.07</td>\n",
       "      <td>0</td>\n",
       "      <td>0.469</td>\n",
       "      <td>6.421</td>\n",
       "      <td>78.9</td>\n",
       "      <td>4.9671</td>\n",
       "      <td>2</td>\n",
       "      <td>242</td>\n",
       "      <td>17.8</td>\n",
       "      <td>396.90</td>\n",
       "      <td>9.14</td>\n",
       "      <td>21.6</td>\n",
       "    </tr>\n",
       "    <tr>\n",
       "      <td>2</td>\n",
       "      <td>0.02729</td>\n",
       "      <td>0.0</td>\n",
       "      <td>7.07</td>\n",
       "      <td>0</td>\n",
       "      <td>0.469</td>\n",
       "      <td>7.185</td>\n",
       "      <td>61.1</td>\n",
       "      <td>4.9671</td>\n",
       "      <td>2</td>\n",
       "      <td>242</td>\n",
       "      <td>17.8</td>\n",
       "      <td>392.83</td>\n",
       "      <td>4.03</td>\n",
       "      <td>34.7</td>\n",
       "    </tr>\n",
       "    <tr>\n",
       "      <td>3</td>\n",
       "      <td>0.03237</td>\n",
       "      <td>0.0</td>\n",
       "      <td>2.18</td>\n",
       "      <td>0</td>\n",
       "      <td>0.458</td>\n",
       "      <td>6.998</td>\n",
       "      <td>45.8</td>\n",
       "      <td>6.0622</td>\n",
       "      <td>3</td>\n",
       "      <td>222</td>\n",
       "      <td>18.7</td>\n",
       "      <td>394.63</td>\n",
       "      <td>2.94</td>\n",
       "      <td>33.4</td>\n",
       "    </tr>\n",
       "    <tr>\n",
       "      <td>4</td>\n",
       "      <td>0.06905</td>\n",
       "      <td>0.0</td>\n",
       "      <td>2.18</td>\n",
       "      <td>0</td>\n",
       "      <td>0.458</td>\n",
       "      <td>7.147</td>\n",
       "      <td>54.2</td>\n",
       "      <td>6.0622</td>\n",
       "      <td>3</td>\n",
       "      <td>222</td>\n",
       "      <td>18.7</td>\n",
       "      <td>396.90</td>\n",
       "      <td>5.33</td>\n",
       "      <td>36.2</td>\n",
       "    </tr>\n",
       "  </tbody>\n",
       "</table>\n",
       "</div>"
      ],
      "text/plain": [
       "      CRIM    ZN  INDUS  CHAS    NOX     RM   AGE     DIS  RAD  TAX  PTRATIO  \\\n",
       "0  0.00632  18.0   2.31     0  0.538  6.575  65.2  4.0900    1  296     15.3   \n",
       "1  0.02731   0.0   7.07     0  0.469  6.421  78.9  4.9671    2  242     17.8   \n",
       "2  0.02729   0.0   7.07     0  0.469  7.185  61.1  4.9671    2  242     17.8   \n",
       "3  0.03237   0.0   2.18     0  0.458  6.998  45.8  6.0622    3  222     18.7   \n",
       "4  0.06905   0.0   2.18     0  0.458  7.147  54.2  6.0622    3  222     18.7   \n",
       "\n",
       "        B  LSTAT  MEDV  \n",
       "0  396.90   4.98  24.0  \n",
       "1  396.90   9.14  21.6  \n",
       "2  392.83   4.03  34.7  \n",
       "3  394.63   2.94  33.4  \n",
       "4  396.90   5.33  36.2  "
      ]
     },
     "execution_count": 111,
     "metadata": {},
     "output_type": "execute_result"
    }
   ],
   "source": [
    "import matplotlib.pyplot as plt \n",
    "import pandas as pd \n",
    "import numpy as np\n",
    "import seaborn as sns\n",
    "import warnings\n",
    "warnings.simplefilter(\"ignore\")\n",
    "\n",
    "data = pd.read_csv('./bostonhousing.csv')\n",
    "data.head()"
   ]
  },
  {
   "cell_type": "markdown",
   "metadata": {
    "_uuid": "d95c7c17009458684d7ead7f1d4004f3e6de9ba9"
   },
   "source": [
    "## 2. 数据探索性分析\n",
    "### 2.1 查看数据总体情况"
   ]
  },
  {
   "cell_type": "code",
   "execution_count": 112,
   "metadata": {},
   "outputs": [
    {
     "name": "stdout",
     "output_type": "stream",
     "text": [
      "<class 'pandas.core.frame.DataFrame'>\n",
      "RangeIndex: 506 entries, 0 to 505\n",
      "Data columns (total 14 columns):\n",
      "CRIM       506 non-null float64\n",
      "ZN         506 non-null float64\n",
      "INDUS      506 non-null float64\n",
      "CHAS       506 non-null int64\n",
      "NOX        506 non-null float64\n",
      "RM         506 non-null float64\n",
      "AGE        506 non-null float64\n",
      "DIS        506 non-null float64\n",
      "RAD        506 non-null int64\n",
      "TAX        506 non-null int64\n",
      "PTRATIO    506 non-null float64\n",
      "B          506 non-null float64\n",
      "LSTAT      506 non-null float64\n",
      "MEDV       506 non-null float64\n",
      "dtypes: float64(11), int64(3)\n",
      "memory usage: 55.5 KB\n"
     ]
    }
   ],
   "source": [
    "data.info()"
   ]
  },
  {
   "cell_type": "markdown",
   "metadata": {},
   "source": [
    "### 2.2 查看数据分布"
   ]
  },
  {
   "cell_type": "code",
   "execution_count": 113,
   "metadata": {},
   "outputs": [
    {
     "data": {
      "image/png": "[encoded data removed]",
      "text/plain": [
       "<Figure size 1080x1296 with 14 Axes>"
      ]
     },
     "metadata": {
      "needs_background": "light"
     },
     "output_type": "display_data"
    }
   ],
   "source": [
    "graph_by_variables = data.columns\n",
    "plt.figure(figsize = (15, 18))\n",
    "for i in range(0, 14):\n",
    "    plt.subplot(5, 3, i+1)\n",
    "    sns.distplot(data[graph_by_variables[i]])\n",
    "    plt.title(graph_by_variables[i])\n",
    "plt.tight_layout()"
   ]
  },
  {
   "cell_type": "markdown",
   "metadata": {},
   "source": [
    "## 3. 数据准备"
   ]
  },
  {
   "cell_type": "markdown",
   "metadata": {},
   "source": [
    "### 3.1查看缺失值情况"
   ]
  },
  {
   "cell_type": "code",
   "execution_count": 106,
   "metadata": {},
   "outputs": [
    {
     "data": {
      "text/plain": [
       "CRIM       0\n",
       "ZN         0\n",
       "INDUS      0\n",
       "CHAS       0\n",
       "NOX        0\n",
       "RM         0\n",
       "AGE        0\n",
       "DIS        0\n",
       "RAD        0\n",
       "TAX        0\n",
       "PTRATIO    0\n",
       "B          0\n",
       "LSTAT      0\n",
       "MEDV       0\n",
       "dtype: int64"
      ]
     },
     "execution_count": 106,
     "metadata": {},
     "output_type": "execute_result"
    }
   ],
   "source": [
    "data.isnull().sum()"
   ]
  },
  {
   "cell_type": "markdown",
   "metadata": {},
   "source": [
    "### 3.2 数据标准化"
   ]
  },
  {
   "cell_type": "code",
   "execution_count": 107,
   "metadata": {},
   "outputs": [
    {
     "data": {
      "text/html": [
       "<div>\n",
       "<style scoped>\n",
       "    .dataframe tbody tr th:only-of-type {\n",
       "        vertical-align: middle;\n",
       "    }\n",
       "\n",
       "    .dataframe tbody tr th {\n",
       "        vertical-align: top;\n",
       "    }\n",
       "\n",
       "    .dataframe thead th {\n",
       "        text-align: right;\n",
       "    }\n",
       "</style>\n",
       "<table border=\"1\" class=\"dataframe\">\n",
       "  <thead>\n",
       "    <tr style=\"text-align: right;\">\n",
       "      <th></th>\n",
       "      <th>CRIM</th>\n",
       "      <th>ZN</th>\n",
       "      <th>INDUS</th>\n",
       "      <th>CHAS</th>\n",
       "      <th>NOX</th>\n",
       "      <th>RM</th>\n",
       "      <th>AGE</th>\n",
       "      <th>DIS</th>\n",
       "      <th>RAD</th>\n",
       "      <th>TAX</th>\n",
       "      <th>PTRATIO</th>\n",
       "      <th>B</th>\n",
       "      <th>LSTAT</th>\n",
       "      <th>MEDV</th>\n",
       "    </tr>\n",
       "  </thead>\n",
       "  <tbody>\n",
       "    <tr>\n",
       "      <td>0</td>\n",
       "      <td>-0.419782</td>\n",
       "      <td>0.284830</td>\n",
       "      <td>-1.287909</td>\n",
       "      <td>0</td>\n",
       "      <td>-0.144217</td>\n",
       "      <td>0.413672</td>\n",
       "      <td>-0.120013</td>\n",
       "      <td>0.140214</td>\n",
       "      <td>-0.982843</td>\n",
       "      <td>-0.666608</td>\n",
       "      <td>-1.459000</td>\n",
       "      <td>0.441052</td>\n",
       "      <td>-1.075562</td>\n",
       "      <td>0.159686</td>\n",
       "    </tr>\n",
       "    <tr>\n",
       "      <td>1</td>\n",
       "      <td>-0.417339</td>\n",
       "      <td>-0.487722</td>\n",
       "      <td>-0.593381</td>\n",
       "      <td>0</td>\n",
       "      <td>-0.740262</td>\n",
       "      <td>0.194274</td>\n",
       "      <td>0.367166</td>\n",
       "      <td>0.557160</td>\n",
       "      <td>-0.867883</td>\n",
       "      <td>-0.987329</td>\n",
       "      <td>-0.303094</td>\n",
       "      <td>0.441052</td>\n",
       "      <td>-0.492439</td>\n",
       "      <td>-0.101524</td>\n",
       "    </tr>\n",
       "    <tr>\n",
       "      <td>2</td>\n",
       "      <td>-0.417342</td>\n",
       "      <td>-0.487722</td>\n",
       "      <td>-0.593381</td>\n",
       "      <td>0</td>\n",
       "      <td>-0.740262</td>\n",
       "      <td>1.282714</td>\n",
       "      <td>-0.265812</td>\n",
       "      <td>0.557160</td>\n",
       "      <td>-0.867883</td>\n",
       "      <td>-0.987329</td>\n",
       "      <td>-0.303094</td>\n",
       "      <td>0.396427</td>\n",
       "      <td>-1.208727</td>\n",
       "      <td>1.324247</td>\n",
       "    </tr>\n",
       "    <tr>\n",
       "      <td>3</td>\n",
       "      <td>-0.416750</td>\n",
       "      <td>-0.487722</td>\n",
       "      <td>-1.306878</td>\n",
       "      <td>0</td>\n",
       "      <td>-0.835284</td>\n",
       "      <td>1.016303</td>\n",
       "      <td>-0.809889</td>\n",
       "      <td>1.077737</td>\n",
       "      <td>-0.752922</td>\n",
       "      <td>-1.106115</td>\n",
       "      <td>0.113032</td>\n",
       "      <td>0.416163</td>\n",
       "      <td>-1.361517</td>\n",
       "      <td>1.182758</td>\n",
       "    </tr>\n",
       "    <tr>\n",
       "      <td>4</td>\n",
       "      <td>-0.412482</td>\n",
       "      <td>-0.487722</td>\n",
       "      <td>-1.306878</td>\n",
       "      <td>0</td>\n",
       "      <td>-0.835284</td>\n",
       "      <td>1.228577</td>\n",
       "      <td>-0.511180</td>\n",
       "      <td>1.077737</td>\n",
       "      <td>-0.752922</td>\n",
       "      <td>-1.106115</td>\n",
       "      <td>0.113032</td>\n",
       "      <td>0.441052</td>\n",
       "      <td>-1.026501</td>\n",
       "      <td>1.487503</td>\n",
       "    </tr>\n",
       "  </tbody>\n",
       "</table>\n",
       "</div>"
      ],
      "text/plain": [
       "       CRIM        ZN     INDUS  CHAS       NOX        RM       AGE       DIS  \\\n",
       "0 -0.419782  0.284830 -1.287909     0 -0.144217  0.413672 -0.120013  0.140214   \n",
       "1 -0.417339 -0.487722 -0.593381     0 -0.740262  0.194274  0.367166  0.557160   \n",
       "2 -0.417342 -0.487722 -0.593381     0 -0.740262  1.282714 -0.265812  0.557160   \n",
       "3 -0.416750 -0.487722 -1.306878     0 -0.835284  1.016303 -0.809889  1.077737   \n",
       "4 -0.412482 -0.487722 -1.306878     0 -0.835284  1.228577 -0.511180  1.077737   \n",
       "\n",
       "        RAD       TAX   PTRATIO         B     LSTAT      MEDV  \n",
       "0 -0.982843 -0.666608 -1.459000  0.441052 -1.075562  0.159686  \n",
       "1 -0.867883 -0.987329 -0.303094  0.441052 -0.492439 -0.101524  \n",
       "2 -0.867883 -0.987329 -0.303094  0.396427 -1.208727  1.324247  \n",
       "3 -0.752922 -1.106115  0.113032  0.416163 -1.361517  1.182758  \n",
       "4 -0.752922 -1.106115  0.113032  0.441052 -1.026501  1.487503  "
      ]
     },
     "execution_count": 107,
     "metadata": {},
     "output_type": "execute_result"
    }
   ],
   "source": [
    "from sklearn.preprocessing import StandardScaler\n",
    "#对除CHAS以外的特征进行正态标准化\n",
    "data_s = data.drop(['CHAS'],axis=1)\n",
    "standard_cols = data_s.columns\n",
    "z_scaler = StandardScaler().fit(data_s)\n",
    "data[standard_cols] = z_scaler.transform(data_s)\n",
    "data.head()"
   ]
  },
  {
   "cell_type": "markdown",
   "metadata": {},
   "source": [
    "### 3.3 划分训练集和测试集\n",
    "在训练模型前，我们需要将数据划分为训练集和测试集，可以采用sklearn.model_selection实现的方法[`train_test_split()`](https://scikit-learn.org/stable/modules/generated/sklearn.model_selection.train_test_split.html)。\n",
    "\n",
    "主要用到三个参数:\t\n",
    "> - `data`：需要拆分的数据集。\n",
    "> - `test_size`(int/float)：默认为0.2，传入为`float`表示测试集占原始数据的比例，传入为`int`时为测试集大小。\n",
    "> - `random_state`：默认为None，随机数种子。\n",
    "> - `shuffle`(bool)：默认是True，是否在划分数据之前先打乱数据。\n",
    "> - `stratify`：默认是None，如果不是None，将会利用该标签将数据分层划分，可以用于处理不均衡的数据集。\n",
    "\n",
    "\n",
    "该函数将最终同时返回训练集与测试集。"
   ]
  },
  {
   "cell_type": "code",
   "execution_count": 108,
   "metadata": {},
   "outputs": [
    {
     "name": "stdout",
     "output_type": "stream",
     "text": [
      "训练集数量： 404 ,测试集数量： 102\n"
     ]
    }
   ],
   "source": [
    "from sklearn.model_selection import train_test_split\n",
    "#首先将数据分为预测特征（X）以及标签(y)两部分\n",
    "data_X = data.drop(['MEDV'],axis=1)\n",
    "data_y = data['MEDV']\n",
    "#划分训练集以及测试集\n",
    "X_train,X_test,y_train,y_test = train_test_split(data_X,data_y,test_size=0.2, random_state=42)\n",
    "print(\"训练集数量：\",len(X_train),\",测试集数量：\",len(X_test))"
   ]
  },
  {
   "cell_type": "markdown",
   "metadata": {},
   "source": [
    "## 4. 波士顿房价预测"
   ]
  },
  {
   "cell_type": "markdown",
   "metadata": {},
   "source": [
    "### 4.1 多元线性回归\n",
    "多元线性回归的方法对应sklearn.linear_model已经实现的类[LinearRegression](https://scikit-learn.org/stable/modules/generated/sklearn.linear_model.LinearRegression.html)。\n",
    "\n",
    "主要用到的参数有:\t\n",
    "> - `fit_intercept`(bool)：默认True，是否计算模型的截距。\n",
    "> - `normalize`(bool)：默认False，是否对数据进行标准正态化。\n",
    "> - `copy_X`(bool)：默认True，设置为False时数据会被改写。\n",
    "> - `positive`(bool)：默认为False,设置为True时，线性回归的系数将被强制为正数。\n",
    "\n",
    "常用属性有：\n",
    "> - `intercept_`：模型的截距。\n",
    "> - `coef_`：模型的系数。\n"
   ]
  },
  {
   "cell_type": "code",
   "execution_count": 109,
   "metadata": {},
   "outputs": [
    {
     "name": "stdout",
     "output_type": "stream",
     "text": [
      "多元线性回归的截距为： -0.026135966861837015\n",
      "多元线性回归的系数为： [-0.10573498  0.07635554  0.030121    0.30305123 -0.21674227  0.33910693\n",
      " -0.01927079 -0.33149399  0.24845253 -0.19510257 -0.21549315  0.12260527\n",
      " -0.39487863]\n"
     ]
    }
   ],
   "source": [
    "from sklearn.linear_model import LinearRegression\n",
    "#模型实例化，选择默认参数\n",
    "LR = LinearRegression()\n",
    "#训练模型\n",
    "LR.fit(X_train,y_train)\n",
    "#查看模型截距\n",
    "print(\"多元线性回归的截距为：\" ,LR.intercept_)\n",
    "#查看模型系数\n",
    "print(\"多元线性回归的系数为：\",LR.coef_)\n",
    "#对测试集数据进行预测\n",
    "y_pred = LR.predict(X_test)"
   ]
  },
  {
   "cell_type": "markdown",
   "metadata": {},
   "source": [
    "#### 评价预测效果\n",
    "为了评价预测模型的效果，我们将采用MAE（平均绝对误差）、RMSE（均方根误差）以及\n",
    "R-Square（确定系数）三个指标，三个指标的计算方法都已经实现于[`sklearn.metrics`](https://scikit-learn.org/stable/modules/model_evaluation.html)模块中。\n",
    "\n",
    "使用相关函数时，主要用到的参数有：\n",
    "> - `y_true`：真实值。\n",
    "> - `y_pred`：预测值。\n"
   ]
  },
  {
   "cell_type": "code",
   "execution_count": 115,
   "metadata": {},
   "outputs": [
    {
     "name": "stdout",
     "output_type": "stream",
     "text": [
      "多元线性回归MAE: 0.3470927251421174\n",
      "多元线性回归RMSE: 0.5364166292540398\n",
      "多元线性回归R_Square: 0.6687594935356324\n"
     ]
    }
   ],
   "source": [
    "from sklearn.metrics import mean_absolute_error\n",
    "from sklearn.metrics import mean_squared_error\n",
    "from sklearn.metrics import r2_score\n",
    "#计算MAE\n",
    "MAE = mean_absolute_error(y_true=y_test, y_pred=y_pred)\n",
    "print(\"多元线性回归MAE:\",MAE)\n",
    "#计算RMSE\n",
    "#注意：sklearn.metrics中只实现了计算MSE的方法，为了得到RMSE，需要进行开方操作\n",
    "RMSE = np.sqrt(mean_squared_error(y_true=y_test, y_pred=y_pred))\n",
    "print(\"多元线性回归RMSE:\", RMSE)\n",
    "#计算R-Square\n",
    "R_Square = r2_score(y_true=y_test, y_pred=y_pred)\n",
    "print(\"多元线性回归R_Square:\", R_Square)"
   ]
  },
  {
   "cell_type": "markdown",
   "metadata": {},
   "source": [
    "### 4.2 Lasso回归\n",
    "Lasso回归是在线性回归的基础上增加L1正则项。Lasso回归的方法对应sklearn.linear_model已经实现的类[Lasso](https://scikit-learn.org/stable/modules/generated/sklearn.linear_model.Lasso.html)。\n",
    "\n",
    "主要用到的参数有:\n",
    "> - `alpha`(float)：默认为1.0，正则化系数，当设置为0时，该模型等同于多元线性回归。\n",
    "> - `fit_intercept`(bool)：默认True，是否计算模型的截距。\n",
    "> - `normalize`(bool)：默认False，是否对数据进行标准正态化。\n",
    "> - `copy_X`(bool)：默认True，设置为False时数据会被改写。\n",
    "> - `positive`(boo)：默认为False,设置为True时，线性回归的系数将被强制为正数。\n",
    "\n",
    "常用属性有：\n",
    "> - `intercept_`：模型的截距。\n",
    "> - `coef_`：模型的系数。\n",
    "\n",
    "可选参数：<br/><br/>\n",
    "class sklearn.linear_model.Lasso(alpha=1.0, *, fit_intercept=True, normalize=False, precompute=False, copy_X=True, max_iter=1000, tol=0.0001, warm_start=False, positive=False, random_state=None, selection='cyclic')<br/>\n",
    "<br/>\n",
    "其他参数含义可参见<https://scikit-learn.org/stable/modules/generated/sklearn.linear_model.Lasso.html>"
   ]
  },
  {
   "cell_type": "code",
   "execution_count": 116,
   "metadata": {},
   "outputs": [
    {
     "name": "stdout",
     "output_type": "stream",
     "text": [
      "Lasso回归的截距为： -0.01843761742516048\n",
      "Lasso回归的系数为： [-0.08106753  0.03292597 -0.          0.1749782  -0.16571287  0.35291802\n",
      " -0.         -0.25603747  0.0927968  -0.05404755 -0.2043092   0.11484948\n",
      " -0.39877891]\n"
     ]
    }
   ],
   "source": [
    "from sklearn.linear_model import Lasso\n",
    "#模型实例化\n",
    "lasso = Lasso(alpha=0.01)\n",
    "#训练模型\n",
    "lasso.fit(X_train,y_train)\n",
    "#查看模型截距\n",
    "print(\"Lasso回归的截距为：\" ,lasso.intercept_)\n",
    "#查看模型系数\n",
    "print(\"Lasso回归的系数为：\",lasso.coef_)\n",
    "#对测试集数据进行预测\n",
    "y_pred = lasso.predict(X_test)"
   ]
  },
  {
   "cell_type": "code",
   "execution_count": 117,
   "metadata": {},
   "outputs": [
    {
     "name": "stdout",
     "output_type": "stream",
     "text": [
      "Lasso回归MAE: 0.3525000949197791\n",
      "Lasso回归RMSE: 0.5497016058051273\n",
      "Lasso回归R_Square: 0.6521492166567662\n"
     ]
    }
   ],
   "source": [
    "#计算评价指标\n",
    "MAE = mean_absolute_error(y_test, y_pred)\n",
    "print(\"Lasso回归MAE:\",MAE)\n",
    "RMSE = np.sqrt(mean_squared_error(y_test, y_pred))\n",
    "print(\"Lasso回归RMSE:\", RMSE)\n",
    "R_Square = r2_score(y_test, y_pred)\n",
    "print(\"Lasso回归R_Square:\", R_Square)"
   ]
  },
  {
   "cell_type": "markdown",
   "metadata": {},
   "source": [
    "### 4.3 岭回归\n",
    "岭回归是在线性回归的基础上增加L2正则项。岭回归的方法对应sklearn.linear_model已经实现的类[Ridge](https://scikit-learn.org/stable/modules/generated/sklearn.linear_model.Ridge.html)。\n",
    "\n",
    "主要用到的参数:\n",
    "> - `alpha`(float)：默认为1.0，正则化系数，当设置为0时，该模型等同于多元线性回归。\n",
    "> - `fit_intercept`(bool)：默认True，是否计算模型的截距。\n",
    "> - `normalize`(bool)：默认False，是否对数据进行标准正态化。\n",
    "> - `copy_X`(bool)：默认True，设置为False时数据会被改写。\n",
    "> - `positive`(boo)：默认为False,设置为True时，线性回归的系数将被强制为正数。\n",
    "\n",
    "常用属性：\n",
    "> - `intercept_`：模型的截距。\n",
    "> - `coef_`：模型的系数。\n",
    "\n",
    "可选参数：<br/><br/>\n",
    "class sklearn.linear_model.Ridge(alpha=1.0, *, fit_intercept=True, normalize=False, copy_X=True, max_iter=None, tol=0.001, solver='auto', positive=False, random_state=None)<br/>\n",
    "<br/>\n",
    "其他参数含义可参见<https://scikit-learn.org/stable/modules/generated/sklearn.linear_model.Ridge.html>"
   ]
  },
  {
   "cell_type": "code",
   "execution_count": 118,
   "metadata": {},
   "outputs": [
    {
     "name": "stdout",
     "output_type": "stream",
     "text": [
      "岭回归的截距为： -0.02582680792649067\n",
      "岭回归的系数为： [-0.10531981  0.07539157  0.02895689  0.29820915 -0.2148675   0.3395612\n",
      " -0.01928151 -0.32960022  0.24437468 -0.19138033 -0.21512063  0.12258333\n",
      " -0.39438116]\n"
     ]
    }
   ],
   "source": [
    "from sklearn.linear_model import Ridge\n",
    "#模型实例化\n",
    "ridge = Ridge(alpha=0.5)\n",
    "#训练模型\n",
    "ridge.fit(X_train,y_train)\n",
    "#查看模型截距\n",
    "print(\"岭回归的截距为：\" ,ridge.intercept_)\n",
    "#查看模型系数\n",
    "print(\"岭回归的系数为：\",ridge.coef_)\n",
    "#对测试集数据进行预测\n",
    "y_pred = ridge.predict(X_test)"
   ]
  },
  {
   "cell_type": "code",
   "execution_count": 119,
   "metadata": {},
   "outputs": [
    {
     "name": "stdout",
     "output_type": "stream",
     "text": [
      "岭回归MAE: 0.3469214570141381\n",
      "岭回归RMSE: 0.5365228875203303\n",
      "岭回归R_Square: 0.6686282502963408\n"
     ]
    }
   ],
   "source": [
    "#计算评价指标\n",
    "MAE = mean_absolute_error(y_test, y_pred)\n",
    "print(\"岭回归MAE:\",MAE)\n",
    "RMSE = np.sqrt(mean_squared_error(y_test, y_pred))\n",
    "print(\"岭回归RMSE:\", RMSE)\n",
    "R_Square = r2_score(y_test,y_pred)\n",
    "print(\"岭回归R_Square:\", R_Square)"
   ]
  },
  {
   "cell_type": "code",
   "execution_count": 150,
   "metadata": {},
   "outputs": [
    {
     "data": {
      "text/html": [
       "<div>\n",
       "<style scoped>\n",
       "    .dataframe tbody tr th:only-of-type {\n",
       "        vertical-align: middle;\n",
       "    }\n",
       "\n",
       "    .dataframe tbody tr th {\n",
       "        vertical-align: top;\n",
       "    }\n",
       "\n",
       "    .dataframe thead th {\n",
       "        text-align: right;\n",
       "    }\n",
       "</style>\n",
       "<table border=\"1\" class=\"dataframe\">\n",
       "  <thead>\n",
       "    <tr style=\"text-align: right;\">\n",
       "      <th></th>\n",
       "      <th>LR_coef</th>\n",
       "      <th>Lasso_coef</th>\n",
       "      <th>Ridge_coef</th>\n",
       "    </tr>\n",
       "  </thead>\n",
       "  <tbody>\n",
       "    <tr>\n",
       "      <td>CRIM</td>\n",
       "      <td>-0.105735</td>\n",
       "      <td>-0.081068</td>\n",
       "      <td>-0.105320</td>\n",
       "    </tr>\n",
       "    <tr>\n",
       "      <td>ZN</td>\n",
       "      <td>0.076356</td>\n",
       "      <td>0.032926</td>\n",
       "      <td>0.075392</td>\n",
       "    </tr>\n",
       "    <tr>\n",
       "      <td>INDUS</td>\n",
       "      <td>0.030121</td>\n",
       "      <td>-0.000000</td>\n",
       "      <td>0.028957</td>\n",
       "    </tr>\n",
       "    <tr>\n",
       "      <td>CHAS</td>\n",
       "      <td>0.303051</td>\n",
       "      <td>0.174978</td>\n",
       "      <td>0.298209</td>\n",
       "    </tr>\n",
       "    <tr>\n",
       "      <td>NOX</td>\n",
       "      <td>-0.216742</td>\n",
       "      <td>-0.165713</td>\n",
       "      <td>-0.214868</td>\n",
       "    </tr>\n",
       "    <tr>\n",
       "      <td>RM</td>\n",
       "      <td>0.339107</td>\n",
       "      <td>0.352918</td>\n",
       "      <td>0.339561</td>\n",
       "    </tr>\n",
       "    <tr>\n",
       "      <td>AGE</td>\n",
       "      <td>-0.019271</td>\n",
       "      <td>-0.000000</td>\n",
       "      <td>-0.019282</td>\n",
       "    </tr>\n",
       "    <tr>\n",
       "      <td>DIS</td>\n",
       "      <td>-0.331494</td>\n",
       "      <td>-0.256037</td>\n",
       "      <td>-0.329600</td>\n",
       "    </tr>\n",
       "    <tr>\n",
       "      <td>RAD</td>\n",
       "      <td>0.248453</td>\n",
       "      <td>0.092797</td>\n",
       "      <td>0.244375</td>\n",
       "    </tr>\n",
       "    <tr>\n",
       "      <td>TAX</td>\n",
       "      <td>-0.195103</td>\n",
       "      <td>-0.054048</td>\n",
       "      <td>-0.191380</td>\n",
       "    </tr>\n",
       "    <tr>\n",
       "      <td>PTRATIO</td>\n",
       "      <td>-0.215493</td>\n",
       "      <td>-0.204309</td>\n",
       "      <td>-0.215121</td>\n",
       "    </tr>\n",
       "    <tr>\n",
       "      <td>B</td>\n",
       "      <td>0.122605</td>\n",
       "      <td>0.114849</td>\n",
       "      <td>0.122583</td>\n",
       "    </tr>\n",
       "    <tr>\n",
       "      <td>LSTAT</td>\n",
       "      <td>-0.394879</td>\n",
       "      <td>-0.398779</td>\n",
       "      <td>-0.394381</td>\n",
       "    </tr>\n",
       "  </tbody>\n",
       "</table>\n",
       "</div>"
      ],
      "text/plain": [
       "          LR_coef  Lasso_coef  Ridge_coef\n",
       "CRIM    -0.105735   -0.081068   -0.105320\n",
       "ZN       0.076356    0.032926    0.075392\n",
       "INDUS    0.030121   -0.000000    0.028957\n",
       "CHAS     0.303051    0.174978    0.298209\n",
       "NOX     -0.216742   -0.165713   -0.214868\n",
       "RM       0.339107    0.352918    0.339561\n",
       "AGE     -0.019271   -0.000000   -0.019282\n",
       "DIS     -0.331494   -0.256037   -0.329600\n",
       "RAD      0.248453    0.092797    0.244375\n",
       "TAX     -0.195103   -0.054048   -0.191380\n",
       "PTRATIO -0.215493   -0.204309   -0.215121\n",
       "B        0.122605    0.114849    0.122583\n",
       "LSTAT   -0.394879   -0.398779   -0.394381"
      ]
     },
     "execution_count": 150,
     "metadata": {},
     "output_type": "execute_result"
    }
   ],
   "source": [
    "#对比三种回归的系数\n",
    "coef = pd.DataFrame({'LR_coef':LR.coef_,'Lasso_coef':lasso.coef_,\"Ridge_coef\":ridge.coef_},index=X_train.columns)\n",
    "coef"
   ]
  },
  {
   "cell_type": "markdown",
   "metadata": {},
   "source": [
    "### 4.4 回归树\n",
    "回归树的方法对应sklearn.tree已经实现的类[DecisionTreeRegressor](https://scikit-learn.org/stable/modules/generated/sklearn.tree.DecisionTreeRegressor.html)。\n",
    "\n",
    "主要用到的参数:\n",
    "> - `criterion`：衡量划分质量时使用的标准，默认为squared_error。可选：squared_error,friedman_mse,absolute_error,poisson。\n",
    "> - `splitter`：寻找划分点时使用的策略。默认为best,表示在所有划分点中找出最优的划分点; 设置为random时，则表示随机在部分划分点中找局部最优的划分点。\n",
    "> - `max_depth`(int)：默认None，树的最大深度。\n",
    "> - `min_samples_split`（int/float):内部节点再划分所需最小样本数,默认值为2。如果输入参数是int，则取传入值本身作为最小样本数；如果是float，则取ceil(min_samples_split* n_samples)作为最小样本数， n_samples表示样本数量。\n",
    "> - `min_samples_leaf`（int/float)：叶子节点最小样本数,默认值为1。如果输入参数是int，则取传入值本身作为最小样本数；如果是float，则取ceil(min_samples_leaf*n_samples)的值作为最小样本数。如果某叶子节点样本数目小于该值，则会和兄弟节点一起被剪枝。\n",
    "> - `max_features`：在寻找最优划分点时考虑的特征数量,默认值为None。\n",
    " - 如果是None，max_features=n_features，n_features表示全部特征数量。\n",
    " - 如果是int,则取传入值本身作为最大特征数。\n",
    " - 如果是float,则取int(max_features*n_features)作为最大特征数。\n",
    " - 如果是\"auto\",max_features=n_features。\n",
    " - 如果是\"sqrt\",max_features=sqrt(n_features)。\n",
    " - 如果是\"log2\",max_features=log2(n_features)。\n",
    "> - `random_state`:默认为None,随机数种子。\n",
    "> - `max_leaf_nodes`(int):默认为None,最大叶子节点数。\n",
    "> - `min_impurity_decrease`(float):默认为0.0,节点划分的最小阈值。节点划分质量（如squared_error）必须大于这个阈值才能继续划分，否则该节点不再生成子节点。\n",
    "\n",
    "常用属性：\n",
    "> - `feature_importances_`：n_features维数组，表明各个feature在模型中的重要程度。\n",
    "\n",
    "可选参数：<br/><br/>\n",
    "class sklearn.tree.DecisionTreeRegressor(*, criterion='squared_error', splitter='best', max_depth=None, min_samples_split=2, min_samples_leaf=1, min_weight_fraction_leaf=0.0, max_features=None, random_state=None, max_leaf_nodes=None, min_impurity_decrease=0.0, ccp_alpha=0.0)<br/>\n",
    "<br/>\n",
    "其他参数含义可参见<https://scikit-learn.org/stable/modules/generated/sklearn.tree.DecisionTreeRegressor.html>"
   ]
  },
  {
   "cell_type": "code",
   "execution_count": 130,
   "metadata": {},
   "outputs": [],
   "source": [
    "from sklearn.tree import DecisionTreeRegressor\n",
    "#模型实例化\n",
    "tree = DecisionTreeRegressor(random_state=5)\n",
    "#训练模型\n",
    "tree.fit(X_train,y_train)\n",
    "#对测试集数据进行预测\n",
    "y_pred = tree.predict(X_test)"
   ]
  },
  {
   "cell_type": "code",
   "execution_count": 131,
   "metadata": {},
   "outputs": [
    {
     "name": "stdout",
     "output_type": "stream",
     "text": [
      "回归树MAE: 0.271773583568544\n",
      "回归树RMSE: 0.3608009132592159\n",
      "回归树R_Square: 0.8501439673459065\n"
     ]
    }
   ],
   "source": [
    "#计算评价指标\n",
    "MAE = mean_absolute_error(y_test, y_pred)\n",
    "print(\"回归树MAE:\",MAE)\n",
    "RMSE = np.sqrt(mean_squared_error(y_test, y_pred))\n",
    "print(\"回归树RMSE:\", RMSE)\n",
    "R_Square = r2_score(y_test,y_pred)\n",
    "print(\"回归树R_Square:\", R_Square)"
   ]
  },
  {
   "cell_type": "code",
   "execution_count": 132,
   "metadata": {},
   "outputs": [
    {
     "data": {
      "text/html": [
       "<div>\n",
       "<style scoped>\n",
       "    .dataframe tbody tr th:only-of-type {\n",
       "        vertical-align: middle;\n",
       "    }\n",
       "\n",
       "    .dataframe tbody tr th {\n",
       "        vertical-align: top;\n",
       "    }\n",
       "\n",
       "    .dataframe thead th {\n",
       "        text-align: right;\n",
       "    }\n",
       "</style>\n",
       "<table border=\"1\" class=\"dataframe\">\n",
       "  <thead>\n",
       "    <tr style=\"text-align: right;\">\n",
       "      <th></th>\n",
       "      <th>variable</th>\n",
       "      <th>importances</th>\n",
       "    </tr>\n",
       "  </thead>\n",
       "  <tbody>\n",
       "    <tr>\n",
       "      <td>5</td>\n",
       "      <td>RM</td>\n",
       "      <td>0.584739</td>\n",
       "    </tr>\n",
       "    <tr>\n",
       "      <td>12</td>\n",
       "      <td>LSTAT</td>\n",
       "      <td>0.206088</td>\n",
       "    </tr>\n",
       "    <tr>\n",
       "      <td>0</td>\n",
       "      <td>CRIM</td>\n",
       "      <td>0.075580</td>\n",
       "    </tr>\n",
       "    <tr>\n",
       "      <td>7</td>\n",
       "      <td>DIS</td>\n",
       "      <td>0.066100</td>\n",
       "    </tr>\n",
       "    <tr>\n",
       "      <td>6</td>\n",
       "      <td>AGE</td>\n",
       "      <td>0.015521</td>\n",
       "    </tr>\n",
       "    <tr>\n",
       "      <td>11</td>\n",
       "      <td>B</td>\n",
       "      <td>0.012194</td>\n",
       "    </tr>\n",
       "    <tr>\n",
       "      <td>9</td>\n",
       "      <td>TAX</td>\n",
       "      <td>0.012166</td>\n",
       "    </tr>\n",
       "    <tr>\n",
       "      <td>2</td>\n",
       "      <td>INDUS</td>\n",
       "      <td>0.009376</td>\n",
       "    </tr>\n",
       "    <tr>\n",
       "      <td>10</td>\n",
       "      <td>PTRATIO</td>\n",
       "      <td>0.007158</td>\n",
       "    </tr>\n",
       "    <tr>\n",
       "      <td>4</td>\n",
       "      <td>NOX</td>\n",
       "      <td>0.006601</td>\n",
       "    </tr>\n",
       "    <tr>\n",
       "      <td>8</td>\n",
       "      <td>RAD</td>\n",
       "      <td>0.002105</td>\n",
       "    </tr>\n",
       "    <tr>\n",
       "      <td>1</td>\n",
       "      <td>ZN</td>\n",
       "      <td>0.002036</td>\n",
       "    </tr>\n",
       "    <tr>\n",
       "      <td>3</td>\n",
       "      <td>CHAS</td>\n",
       "      <td>0.000335</td>\n",
       "    </tr>\n",
       "  </tbody>\n",
       "</table>\n",
       "</div>"
      ],
      "text/plain": [
       "   variable  importances\n",
       "5        RM     0.584739\n",
       "12    LSTAT     0.206088\n",
       "0      CRIM     0.075580\n",
       "7       DIS     0.066100\n",
       "6       AGE     0.015521\n",
       "11        B     0.012194\n",
       "9       TAX     0.012166\n",
       "2     INDUS     0.009376\n",
       "10  PTRATIO     0.007158\n",
       "4       NOX     0.006601\n",
       "8       RAD     0.002105\n",
       "1        ZN     0.002036\n",
       "3      CHAS     0.000335"
      ]
     },
     "execution_count": 132,
     "metadata": {},
     "output_type": "execute_result"
    }
   ],
   "source": [
    "#查看特征重要程度\n",
    "importances = pd.DataFrame({'variable':list(X_train.columns),'importances': tree.feature_importances_})\n",
    "importances.sort_values('importances',ascending =False)"
   ]
  },
  {
   "cell_type": "markdown",
   "metadata": {},
   "source": [
    "### 4.5 XGBoost\n",
    "- XGBoost是基于Boosting集成的一种方法，其通过不断生成基分类器拟合上一步模型的预测残差来实现分类器的优化；\n",
    "- XGBoost模型有一个专门的库[xgboost](https://xgboost.readthedocs.io/en/latest)，其调用有两个途径：\n",
    "    - 途径1：直接调用库内的xgb类实现xgboost的模型训练、预测\n",
    "    - 途径2：使用xgboost库中基于sklearn的API，调用[xgboost.XGBRegressor](https://xgboost.readthedocs.io/en/latest/python/python_api.html#xgboost.XGBRegressor)实现(模型训练等和sklearn其他模型一致)  \n",
    "    \n",
    "**以下是基于途径2：xgboost.XGBRegressor的参数介绍和模型实现**<br/>\n",
    "主要用到的模型参数：\n",
    "> - `n_estimators`(int)：基学习器的最多迭代次数，默认值为100；\n",
    "> - `booster`(str)：基学习器的类型，'gbtree'(默认)，'gblinear'或'dart'；\n",
    "> - `learning_rate`(float)：学习率，根据`booster`的不同，默认值不同；\n",
    "\n",
    "若选择`booster`='gbtree'，可以调整基学习器——决策树的相关参数：\n",
    "\n",
    "> - `max_depth`(int)：决策树的最大深度；\n",
    "> - `gamma`(float)：叶节点继续分裂所需的最小损失函数下降值，默认值为'None'；\n",
    "> - `subsample`(float)：为了训练树模型，随机采样样本的比例，默认值为1；\n",
    "> - `colsample_bytree`(float)：在构造一棵树时，随机采样特征的比例，默认值为1；\n",
    "> - `colsample_bylevel `(float)：在构造一棵树的不同层次的节点时，随机采样特征的比例（基于colsample_bytree计算），默认值为1；\n",
    "> - `colsample_bynode `(float)：在构造一棵树的不同节点时，随机采样特征的比例（基于colsample_bylevel计算），默认值为1；\n",
    "> - `reg_alpha`(float)：L1正则化的系数，默认值为1；\n",
    "> - `reg_lambda`(float)：L2正则化的系数，默认值为1；\n",
    "    \n",
    "    \n",
    "常用属性：<br/>\n",
    "<br/>\n",
    "> - `feature_importances_`：n_features维数组，表明各个feature在模型中的重要程度；\n",
    "\n",
    "\n",
    "其他参数含义可见https://xgboost.readthedocs.io/en/latest/python/python_api.html#xgboost.XGBRegressor"
   ]
  },
  {
   "cell_type": "code",
   "execution_count": 133,
   "metadata": {},
   "outputs": [],
   "source": [
    "# 如果环境中没有xgboost库，需要先下载该库\n",
    "# pip install -i https://pypi.tuna.tsinghua.edu.cn/simple xgboost"
   ]
  },
  {
   "cell_type": "code",
   "execution_count": 134,
   "metadata": {},
   "outputs": [],
   "source": [
    "from xgboost import XGBRegressor\n",
    "#模型实例化，选择默认参数\n",
    "xgb = XGBRegressor()\n",
    "#训练模型\n",
    "xgb.fit(X_train,y_train)\n",
    "#对测试集数据进行预测\n",
    "y_pred = xgb.predict(X_test)"
   ]
  },
  {
   "cell_type": "code",
   "execution_count": 135,
   "metadata": {},
   "outputs": [
    {
     "name": "stdout",
     "output_type": "stream",
     "text": [
      "XGBoost MAE: 0.1898446461089375\n",
      "XGBoost RMSE: 0.2538466601703213\n",
      "XGBoost R_Square: 0.9258208449600898\n"
     ]
    }
   ],
   "source": [
    "#计算评价指标\n",
    "MAE = mean_absolute_error(y_test, y_pred)\n",
    "print(\"XGBoost MAE:\",MAE)\n",
    "RMSE = np.sqrt(mean_squared_error(y_test, y_pred))\n",
    "print(\"XGBoost RMSE:\", RMSE)\n",
    "R_Square = r2_score(y_test,y_pred)\n",
    "print(\"XGBoost R_Square:\", R_Square)"
   ]
  },
  {
   "cell_type": "code",
   "execution_count": 136,
   "metadata": {},
   "outputs": [
    {
     "data": {
      "text/html": [
       "<div>\n",
       "<style scoped>\n",
       "    .dataframe tbody tr th:only-of-type {\n",
       "        vertical-align: middle;\n",
       "    }\n",
       "\n",
       "    .dataframe tbody tr th {\n",
       "        vertical-align: top;\n",
       "    }\n",
       "\n",
       "    .dataframe thead th {\n",
       "        text-align: right;\n",
       "    }\n",
       "</style>\n",
       "<table border=\"1\" class=\"dataframe\">\n",
       "  <thead>\n",
       "    <tr style=\"text-align: right;\">\n",
       "      <th></th>\n",
       "      <th>variable</th>\n",
       "      <th>importances</th>\n",
       "    </tr>\n",
       "  </thead>\n",
       "  <tbody>\n",
       "    <tr>\n",
       "      <td>5</td>\n",
       "      <td>RM</td>\n",
       "      <td>0.419834</td>\n",
       "    </tr>\n",
       "    <tr>\n",
       "      <td>12</td>\n",
       "      <td>LSTAT</td>\n",
       "      <td>0.295465</td>\n",
       "    </tr>\n",
       "    <tr>\n",
       "      <td>7</td>\n",
       "      <td>DIS</td>\n",
       "      <td>0.073038</td>\n",
       "    </tr>\n",
       "    <tr>\n",
       "      <td>10</td>\n",
       "      <td>PTRATIO</td>\n",
       "      <td>0.050248</td>\n",
       "    </tr>\n",
       "    <tr>\n",
       "      <td>9</td>\n",
       "      <td>TAX</td>\n",
       "      <td>0.045915</td>\n",
       "    </tr>\n",
       "    <tr>\n",
       "      <td>0</td>\n",
       "      <td>CRIM</td>\n",
       "      <td>0.034598</td>\n",
       "    </tr>\n",
       "    <tr>\n",
       "      <td>4</td>\n",
       "      <td>NOX</td>\n",
       "      <td>0.021166</td>\n",
       "    </tr>\n",
       "    <tr>\n",
       "      <td>8</td>\n",
       "      <td>RAD</td>\n",
       "      <td>0.017885</td>\n",
       "    </tr>\n",
       "    <tr>\n",
       "      <td>11</td>\n",
       "      <td>B</td>\n",
       "      <td>0.010042</td>\n",
       "    </tr>\n",
       "    <tr>\n",
       "      <td>6</td>\n",
       "      <td>AGE</td>\n",
       "      <td>0.009475</td>\n",
       "    </tr>\n",
       "    <tr>\n",
       "      <td>2</td>\n",
       "      <td>INDUS</td>\n",
       "      <td>0.009150</td>\n",
       "    </tr>\n",
       "    <tr>\n",
       "      <td>3</td>\n",
       "      <td>CHAS</td>\n",
       "      <td>0.008865</td>\n",
       "    </tr>\n",
       "    <tr>\n",
       "      <td>1</td>\n",
       "      <td>ZN</td>\n",
       "      <td>0.004317</td>\n",
       "    </tr>\n",
       "  </tbody>\n",
       "</table>\n",
       "</div>"
      ],
      "text/plain": [
       "   variable  importances\n",
       "5        RM     0.419834\n",
       "12    LSTAT     0.295465\n",
       "7       DIS     0.073038\n",
       "10  PTRATIO     0.050248\n",
       "9       TAX     0.045915\n",
       "0      CRIM     0.034598\n",
       "4       NOX     0.021166\n",
       "8       RAD     0.017885\n",
       "11        B     0.010042\n",
       "6       AGE     0.009475\n",
       "2     INDUS     0.009150\n",
       "3      CHAS     0.008865\n",
       "1        ZN     0.004317"
      ]
     },
     "execution_count": 136,
     "metadata": {},
     "output_type": "execute_result"
    }
   ],
   "source": [
    "#查看特征重要程度\n",
    "importances = pd.DataFrame({'variable':list(X_train.columns),'importances': xgb.feature_importances_})\n",
    "importances.sort_values('importances',ascending =False)"
   ]
  },
  {
   "cell_type": "markdown",
   "metadata": {},
   "source": [
    "## 5. 参数调整\n",
    "调参常用的方法为*网格搜索*（GridSearch），该方法通过遍历不同的参数组合，在训练集上交叉验证以寻找性能最优的参数。可以通过`sklearn.model_selection`中的[`GridSearchCV`](https://scikit-learn.org/stable/modules/generated/sklearn.model_selection.GridSearchCV.html?highlight=gridsearch#sklearn.model_selection.GridSearchCV)方法实现。<br/>\n",
    "主要参数设置如下：\n",
    "> - `estimator`：待调参的算法类。\n",
    "> - `param_grid`（dict）：需要测试的参数与对应的可能值（list）。\n",
    "> - `scoring`：模型评估指标，调参的依据，回归任务可以设置为\"neg_mean_absolute_error\"、\"neg_root_mean_squared_error\"或\"r2\"等。\n",
    "> - `cv`：交叉验证的折数，默认进行5折交叉验证。\n",
    "> - `n_jobs`：默认为1，并行训练数目，实现加速运算。\n",
    "\n",
    "常用属性：\n",
    "> - `best_score_`：在调参过程中模型的最好表现。\n",
    "> - `best_params_`：在调参过程中模型最好表现对应的参数。"
   ]
  },
  {
   "cell_type": "code",
   "execution_count": 141,
   "metadata": {},
   "outputs": [
    {
     "data": {
      "text/plain": [
       "GridSearchCV(cv='warn', error_score='raise-deprecating',\n",
       "             estimator=DecisionTreeRegressor(criterion='mse', max_depth=None,\n",
       "                                             max_features=None,\n",
       "                                             max_leaf_nodes=None,\n",
       "                                             min_impurity_decrease=0.0,\n",
       "                                             min_impurity_split=None,\n",
       "                                             min_samples_leaf=1,\n",
       "                                             min_samples_split=2,\n",
       "                                             min_weight_fraction_leaf=0.0,\n",
       "                                             presort=False, random_state=5,\n",
       "                                             splitter='best'),\n",
       "             iid='warn', n_jobs=None,\n",
       "             param_grid={'max_depth': [3, 5, 10, 15],\n",
       "                         'max_features': ['auto', 'sqrt', 'log2'],\n",
       "                         'min_samples_leaf': [1, 2, 3, 5]},\n",
       "             pre_dispatch='2*n_jobs', refit=True, return_train_score=False,\n",
       "             scoring='neg_mean_absolute_error', verbose=0)"
      ]
     },
     "execution_count": 141,
     "metadata": {},
     "output_type": "execute_result"
    }
   ],
   "source": [
    "#对回归树进行调参\n",
    "from sklearn.model_selection import GridSearchCV\n",
    "param_grid = {\n",
    "    'max_depth':[3,5,10,15],\n",
    "    'min_samples_leaf':[1,2,3,5],\n",
    "    'max_features':[\"auto\",\"sqrt\",\"log2\"]\n",
    "}\n",
    "gs = GridSearchCV(DecisionTreeRegressor(random_state=5), param_grid, scoring=\"neg_mean_absolute_error\")\n",
    "gs.fit(X_train,y_train)"
   ]
  },
  {
   "cell_type": "code",
   "execution_count": 142,
   "metadata": {},
   "outputs": [
    {
     "name": "stdout",
     "output_type": "stream",
     "text": [
      "最好分数： -0.35449397309922276\n",
      "对应参数： {'max_depth': 5, 'max_features': 'auto', 'min_samples_leaf': 2}\n"
     ]
    }
   ],
   "source": [
    "#输出最佳表现和对应参数\n",
    "print('最好分数：', gs.best_score_)\n",
    "print('对应参数：', gs.best_params_)"
   ]
  },
  {
   "cell_type": "code",
   "execution_count": 145,
   "metadata": {},
   "outputs": [],
   "source": [
    "#根据最优参数重新训练模型和预测\n",
    "tree = DecisionTreeRegressor(max_depth=5,max_features='auto',min_samples_leaf=2,random_state=5)\n",
    "tree.fit(X_train,y_train)\n",
    "y_pred = tree.predict(X_test)"
   ]
  },
  {
   "cell_type": "code",
   "execution_count": 147,
   "metadata": {},
   "outputs": [
    {
     "name": "stdout",
     "output_type": "stream",
     "text": [
      "调参后回归树MAE: 0.24561618619415898\n",
      "调参后回归树RMSE: 0.3106479566373614\n",
      "调参后回归树R_Square: 0.8889097415929322\n"
     ]
    }
   ],
   "source": [
    "MAE = mean_absolute_error(y_test, y_pred)\n",
    "print(\"调参后回归树MAE:\",MAE)\n",
    "RMSE = np.sqrt(mean_squared_error(y_test, y_pred))\n",
    "print(\"调参后回归树RMSE:\", RMSE)\n",
    "R_Square = r2_score(y_test,y_pred)\n",
    "print(\"调参后回归树R_Square:\", R_Square)"
   ]
  }
 ],
 "metadata": {
  "kernelspec": {
   "display_name": "Python 3",
   "language": "python",
   "name": "python3"
  },
  "language_info": {
   "codemirror_mode": {
    "name": "ipython",
    "version": 3
   },
   "file_extension": ".py",
   "mimetype": "text/x-python",
   "name": "python",
   "nbconvert_exporter": "python",
   "pygments_lexer": "ipython3",
   "version": "3.8.8"
  },
  "varInspector": {
   "cols": {
    "lenName": 16,
    "lenType": 16,
    "lenVar": 40
   },
   "kernels_config": {
    "python": {
     "delete_cmd_postfix": "",
     "delete_cmd_prefix": "del ",
     "library": "var_list.py",
     "varRefreshCmd": "print(var_dic_list())"
    },
    "r": {
     "delete_cmd_postfix": ") ",
     "delete_cmd_prefix": "rm(",
     "library": "var_list.r",
     "varRefreshCmd": "cat(var_dic_list()) "
    }
   },
   "types_to_exclude": [
    "module",
    "function",
    "builtin_function_or_method",
    "instance",
    "_Feature"
   ],
   "window_display": false
  }
 },
 "nbformat": 4,
 "nbformat_minor": 4
}
